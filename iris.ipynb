{
 "cells": [
  {
   "cell_type": "markdown",
   "id": "3de2129f",
   "metadata": {},
   "source": [
    "Write your own MD content from slide 49"
   ]
  },
  {
   "cell_type": "code",
   "execution_count": 13,
   "id": "f63fa23b",
   "metadata": {},
   "outputs": [
    {
     "name": "stdout",
     "output_type": "stream",
     "text": [
      "Hello, Guillaume !\n",
      "Hello, Guillaume !\n",
      "learnml\n",
      "learn DL\n",
      "deeeply learn DL\n"
     ]
    }
   ],
   "source": [
    "#1. Hello python\n",
    "name = 'Guillaume'\n",
    "goals = ['learnml','learn DL','deeeply learn DL'] \n",
    "\n",
    "print(\"Hello,\",name,\"!\")\n",
    "print(\"Hello, \"+name+\" !\")\n",
    "\n",
    "# for(1 starting point, 2 end condition; 4 next step;)\n",
    "for g in goals:\n",
    "    print(g)\n",
    "\n",
    "# if - elif - else\n",
    "if \"learn Ml\" in goals:\n",
    "    print(\"Let's learn ML\")"
   ]
  }
 ],
 "metadata": {
  "kernelspec": {
   "display_name": "Python 3",
   "language": "python",
   "name": "python3"
  },
  "language_info": {
   "codemirror_mode": {
    "name": "ipython",
    "version": 3
   },
   "file_extension": ".py",
   "mimetype": "text/x-python",
   "name": "python",
   "nbconvert_exporter": "python",
   "pygments_lexer": "ipython3",
   "version": "3.12.1"
  }
 },
 "nbformat": 4,
 "nbformat_minor": 5
}
